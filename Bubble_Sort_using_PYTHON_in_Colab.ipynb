{
  "nbformat": 4,
  "nbformat_minor": 0,
  "metadata": {
    "colab": {
      "provenance": [],
      "authorship_tag": "ABX9TyNXk/s71iNY0AMGsScoIULu"
    },
    "kernelspec": {
      "name": "python3",
      "display_name": "Python 3"
    },
    "language_info": {
      "name": "python"
    }
  },
  "cells": [
    {
      "cell_type": "code",
      "source": [
        "print(\"\\n Enter numbers:\")\n",
        "a = [0] * 5\n",
        "for i in range (0,5):\n",
        "  a[i] = int(input())\n",
        "\n",
        "print(\"\\n Entered values are:\")\n",
        "for i in range (0,5):\n",
        "  print(a[i])\n",
        "\n",
        "print(\"\\n Sorted numbers are:-\")\n",
        "for p in range(1,5):\n",
        "  for i in range(0,5-p):\n",
        "    if(a[i]>a[i+1]):\n",
        "      temp = a[i]\n",
        "      a[i] = a[i+1]\n",
        "      a[i+1] = temp\n",
        "\n",
        "\n",
        "for i in range (0,5):\n",
        "  print(a[i])"
      ],
      "metadata": {
        "colab": {
          "base_uri": "https://localhost:8080/"
        },
        "id": "5tT4EYQ9ar6h",
        "outputId": "35d0164b-fc8e-4cd5-811b-d859438b5257"
      },
      "execution_count": 9,
      "outputs": [
        {
          "output_type": "stream",
          "name": "stdout",
          "text": [
            "\n",
            " Enter numbers:\n",
            "1\n",
            "9\n",
            "5\n",
            "2\n",
            "890\n",
            "\n",
            " Entered values are:\n",
            "1\n",
            "9\n",
            "5\n",
            "2\n",
            "890\n",
            "\n",
            " Sorted numbers are:-\n",
            "1\n",
            "2\n",
            "5\n",
            "9\n",
            "890\n"
          ]
        }
      ]
    },
    {
      "cell_type": "code",
      "source": [],
      "metadata": {
        "id": "MiWE5rxHbPlo"
      },
      "execution_count": null,
      "outputs": []
    }
  ]
}