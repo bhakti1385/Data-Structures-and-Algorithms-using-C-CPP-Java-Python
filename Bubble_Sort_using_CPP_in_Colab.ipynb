{
  "nbformat": 4,
  "nbformat_minor": 0,
  "metadata": {
    "colab": {
      "provenance": [],
      "authorship_tag": "ABX9TyNM6lq/dm2CtLWqoldjGT4O"
    },
    "kernelspec": {
      "name": "python3",
      "display_name": "Python 3"
    },
    "language_info": {
      "name": "python"
    }
  },
  "cells": [
    {
      "cell_type": "code",
      "execution_count": 32,
      "metadata": {
        "colab": {
          "base_uri": "https://localhost:8080/"
        },
        "id": "XjVkRfwjPA1w",
        "outputId": "22f49baf-eec6-4b89-8fdc-7e24fdaeb0c6"
      },
      "outputs": [
        {
          "output_type": "stream",
          "name": "stdout",
          "text": [
            "Overwriting bubblesort.cpp\n"
          ]
        }
      ],
      "source": [
        "%%writefile bubblesort.cpp\n",
        "#include <iostream>\n",
        "using namespace std;\n",
        "\n",
        "int main()\n",
        "{\n",
        "    const int SIZE = 5;  // Use named constant for array size\n",
        "    int a[SIZE],pass,temp=0;\n",
        "    int i=0;   // More descriptive variable name\n",
        "\n",
        "    cout << \"Enter \" << SIZE << \" values: \";\n",
        "    for(int i = 0; i < SIZE; i++)  // Declare i in loop scope\n",
        "    {\n",
        "        cin >> a[i];\n",
        "    }\n",
        "\n",
        "    cout << \"Entered values are: \";\n",
        "    for(int i = 0; i < SIZE; i++)\n",
        "    {\n",
        "        cout << a[i] << \" \";\n",
        "    }\n",
        "    cout << endl;  // Properly end the output line\n",
        "\n",
        "    for(pass=1;pass<5;pass++)\n",
        "    {\n",
        "      for(int i=0;i<5-pass;i++)\n",
        "      {\n",
        "          if(a[i]>a[i+1])\n",
        "          {\n",
        "            temp=a[i];\n",
        "            a[i]=a[i+1];\n",
        "            a[i+1]=temp;\n",
        "          }\n",
        "      }\n",
        "    }\n",
        "\n",
        "    cout << \"Sorted values are: \";\n",
        "    for(int i = 0; i < SIZE; i++)\n",
        "    {\n",
        "        cout << a[i] << \" \";\n",
        "    }\n",
        "    cout << endl;  // Properly end the output line\n",
        "    return 0;\n",
        "}"
      ]
    },
    {
      "cell_type": "code",
      "source": [
        "!g++ bubblesort.cpp -o bubblesort\n",
        "!./bubblesort"
      ],
      "metadata": {
        "colab": {
          "base_uri": "https://localhost:8080/"
        },
        "id": "WLIUmg3qP0H6",
        "outputId": "614f1fc2-c4cc-4d9a-cbee-030db90b132d"
      },
      "execution_count": 34,
      "outputs": [
        {
          "output_type": "stream",
          "name": "stdout",
          "text": [
            "Enter 5 values: 1\n",
            "2\n",
            "3\n",
            "4\n",
            "5\n",
            "Entered values are: 1 2 3 4 5 \n",
            "Sorted values are: 1 2 3 4 5 \n"
          ]
        }
      ]
    },
    {
      "cell_type": "code",
      "source": [],
      "metadata": {
        "id": "gwH7bH52P5YZ"
      },
      "execution_count": null,
      "outputs": []
    }
  ]
}