{
  "nbformat": 4,
  "nbformat_minor": 0,
  "metadata": {
    "colab": {
      "provenance": [],
      "authorship_tag": "ABX9TyOPeTDszbERbupUaFb9s7k1"
    },
    "kernelspec": {
      "name": "python3",
      "display_name": "Python 3"
    },
    "language_info": {
      "name": "python"
    }
  },
  "cells": [
    {
      "cell_type": "code",
      "source": [
        "!gcc --version"
      ],
      "metadata": {
        "colab": {
          "base_uri": "https://localhost:8080/"
        },
        "id": "ivd4Mj6GEu_r",
        "outputId": "697cd1f9-d44f-4122-f7d6-37c4b0b5143e"
      },
      "execution_count": null,
      "outputs": [
        {
          "output_type": "stream",
          "name": "stdout",
          "text": [
            "gcc (Ubuntu 11.4.0-1ubuntu1~22.04) 11.4.0\n",
            "Copyright (C) 2021 Free Software Foundation, Inc.\n",
            "This is free software; see the source for copying conditions.  There is NO\n",
            "warranty; not even for MERCHANTABILITY or FITNESS FOR A PARTICULAR PURPOSE.\n",
            "\n"
          ]
        }
      ]
    },
    {
      "cell_type": "code",
      "execution_count": 33,
      "metadata": {
        "colab": {
          "base_uri": "https://localhost:8080/"
        },
        "id": "YFMXcNhbEbmd",
        "outputId": "4ca18a35-1340-4db8-de8c-f57ad95eb046"
      },
      "outputs": [
        {
          "output_type": "stream",
          "name": "stdout",
          "text": [
            "Overwriting prog.c\n"
          ]
        }
      ],
      "source": [
        "%%writefile prog.c\n",
        "\n",
        "#include<stdio.h>\n",
        "\n",
        "int main(void)\n",
        "{\n",
        "    int a[5],i,temp,i1;\n",
        "    for(i=0;i<5;i++)\n",
        "    {\n",
        "        scanf(\"%d\",&a[i]);\n",
        "    }\n",
        "    for(i=0;i<5;i++)\n",
        "    {\n",
        "        printf(\"%d \",a[i]);\n",
        "    }\n",
        "    for(i1=1;i1<5;i1++)\n",
        "    {\n",
        "      for(i=0;i<5-i1;i++)\n",
        "      {\n",
        "        if(a[i]>a[i+1])\n",
        "        {\n",
        "          temp=a[i];\n",
        "          a[i]=a[i+1];\n",
        "          a[i+1]=temp;\n",
        "        }\n",
        "      }\n",
        "    }\n",
        "    printf(\"\\n\");\n",
        "    for(i=0;i<5;i++)\n",
        "    {\n",
        "        printf(\"%d \",a[i]);\n",
        "    }\n",
        "    printf(\"\\n\");\n",
        "    return 0;\n",
        "}"
      ]
    },
    {
      "cell_type": "code",
      "source": [
        "!gcc -o hello prog.c"
      ],
      "metadata": {
        "id": "-ck8bt5XEv-l"
      },
      "execution_count": 34,
      "outputs": []
    },
    {
      "cell_type": "code",
      "source": [
        "!./hello"
      ],
      "metadata": {
        "colab": {
          "base_uri": "https://localhost:8080/"
        },
        "id": "k5O-lZS2EzWJ",
        "outputId": "eb04b9ed-8eae-476e-a3b1-4c02cebacc21"
      },
      "execution_count": 35,
      "outputs": [
        {
          "output_type": "stream",
          "name": "stdout",
          "text": [
            "120\n",
            "478\n",
            "1\n",
            "0\n",
            "4587\n",
            "120 478 1 0 4587 \n",
            "0 1 120 478 4587 \n"
          ]
        }
      ]
    },
    {
      "cell_type": "code",
      "source": [],
      "metadata": {
        "id": "3eDKDhD6E2I7"
      },
      "execution_count": null,
      "outputs": []
    }
  ]
}